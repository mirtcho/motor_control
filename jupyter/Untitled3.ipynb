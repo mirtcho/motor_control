{
 "cells": [
  {
   "cell_type": "code",
   "execution_count": 1,
   "id": "bdc5567a",
   "metadata": {},
   "outputs": [
    {
     "ename": "SyntaxError",
     "evalue": "invalid syntax (516641800.py, line 1)",
     "output_type": "error",
     "traceback": [
      "\u001b[0;36m  Cell \u001b[0;32mIn[1], line 1\u001b[0;36m\u001b[0m\n\u001b[0;31m    mport pickle as pkl\u001b[0m\n\u001b[0m          ^\u001b[0m\n\u001b[0;31mSyntaxError\u001b[0m\u001b[0;31m:\u001b[0m invalid syntax\n"
     ]
    }
   ],
   "source": [
    "mport pickle as pkl\n",
    "import numpy as np\n",
    "\n",
    "arrayInput = np.zeros((1000,2)) #Trial input\n",
    "save = True\n",
    "load = True\n",
    "\n",
    "filename = path + 'CNN_Input'\n",
    "fileObject = open(fileName, 'wb')\n",
    "\n",
    "if save:\n",
    "    pkl.dump(arrayInput, fileObject)\n",
    "    fileObject.close()\n",
    "\n",
    "if load:\n",
    "    fileObject2 = open(fileName, 'rb')\n",
    "    modelInput = pkl.load(fileObject2)\n",
    "    fileObject2.close()\n",
    "\n",
    "if arrayInput == modelInput:\n",
    "    Print(True)\n"
   ]
  },
  {
   "cell_type": "code",
   "execution_count": null,
   "id": "31d5ffb4",
   "metadata": {},
   "outputs": [],
   "source": []
  }
 ],
 "metadata": {
  "kernelspec": {
   "display_name": "Python 3 (ipykernel)",
   "language": "python",
   "name": "python3"
  },
  "language_info": {
   "codemirror_mode": {
    "name": "ipython",
    "version": 3
   },
   "file_extension": ".py",
   "mimetype": "text/x-python",
   "name": "python",
   "nbconvert_exporter": "python",
   "pygments_lexer": "ipython3",
   "version": "3.10.6"
  }
 },
 "nbformat": 4,
 "nbformat_minor": 5
}
