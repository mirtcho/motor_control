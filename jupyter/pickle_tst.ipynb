{
 "cells": [
  {
   "cell_type": "code",
   "execution_count": 32,
   "id": "06431660",
   "metadata": {},
   "outputs": [
    {
     "name": "stdout",
     "output_type": "stream",
     "text": [
      "save time =  0.06198883056640625 [ms]   load time =  564.307689666748 ms\n",
      "save time =  0.06198883056640625 [ms]   load time =  547.9652881622314 ms\n",
      "save time =  0.06198883056640625 [ms]   load time =  546.2174415588379 ms\n",
      "save time =  0.06198883056640625 [ms]   load time =  546.6251373291016 ms\n",
      "save time =  0.06198883056640625 [ms]   load time =  556.9918155670166 ms\n",
      "save time =  0.06198883056640625 [ms]   load time =  545.0029373168945 ms\n",
      "save time =  0.06198883056640625 [ms]   load time =  544.4600582122803 ms\n",
      "save time =  0.06198883056640625 [ms]   load time =  549.1275787353516 ms\n",
      "save time =  0.06198883056640625 [ms]   load time =  545.5198287963867 ms\n",
      "save time =  0.06198883056640625 [ms]   load time =  547.3177433013916 ms\n",
      "save time =  0.06198883056640625 [ms]   load time =  547.518253326416 ms\n",
      "save time =  0.06198883056640625 [ms]   load time =  553.7428855895996 ms\n",
      "save time =  0.06198883056640625 [ms]   load time =  546.7374324798584 ms\n",
      "save time =  0.06198883056640625 [ms]   load time =  546.7050075531006 ms\n",
      "save time =  0.06198883056640625 [ms]   load time =  549.8347282409668 ms\n",
      "save time =  0.06198883056640625 [ms]   load time =  544.9066162109375 ms\n",
      "save time =  0.06198883056640625 [ms]   load time =  546.5183258056641 ms\n",
      "save time =  0.06198883056640625 [ms]   load time =  544.8946952819824 ms\n",
      "save time =  0.06198883056640625 [ms]   load time =  547.5280284881592 ms\n",
      "save time =  0.06198883056640625 [ms]   load time =  546.4301109313965 ms\n",
      "0.580751084708849    Type= float64\n"
     ]
    }
   ],
   "source": [
    "import pickle as pkl\n",
    "import numpy as np\n",
    "import time\n",
    "\n",
    "arrayInput = np.random.rand(4,50000000) #Trial input\n",
    "save = False\n",
    "load = True\n",
    "\n",
    "t0=time.time()\n",
    "fileName = 'data_tst.pkl'\n",
    "if save:\n",
    "  fileObject = open(fileName, 'wb')\n",
    "  pkl.dump(arrayInput, fileObject)\n",
    "  fileObject.close()\n",
    "t1=time.time()\n",
    "for i in range (20):\n",
    "  t2=time.time()\n",
    "  if load:\n",
    "    fileObject2 = open(fileName, 'rb')\n",
    "    modelInput = pkl.load(fileObject2)\n",
    "    fileObject2.close()\n",
    "  t3=time.time()\n",
    "  #print ('Four channel 50 Msamples float data')\n",
    "  print('save time = ',(t1-t0)*1e3 ,'[ms]   load time = ',(t3-t2)*1e3,'ms')\n",
    "print (arrayInput[3,100], '   Type=',arrayInput[3,100].dtype)\n",
    "#if arrayInput == modelInput:\n",
    "#    Print(True)\n"
   ]
  },
  {
   "cell_type": "code",
   "execution_count": 12,
   "id": "105f6bb3",
   "metadata": {},
   "outputs": [
    {
     "name": "stdout",
     "output_type": "stream",
     "text": [
      "1675242377.9424808\n"
     ]
    }
   ],
   "source": [
    "1,600,000,164"
   ]
  },
  {
   "cell_type": "code",
   "execution_count": 29,
   "id": "185b23bf",
   "metadata": {},
   "outputs": [
    {
     "name": "stdout",
     "output_type": "stream",
     "text": [
      "float64\n"
     ]
    }
   ],
   "source": [
    "print (arrayInput[3,100].dtype)"
   ]
  },
  {
   "cell_type": "code",
   "execution_count": null,
   "id": "b7faa8ca",
   "metadata": {},
   "outputs": [],
   "source": []
  }
 ],
 "metadata": {
  "kernelspec": {
   "display_name": "Python 3 (ipykernel)",
   "language": "python",
   "name": "python3"
  },
  "language_info": {
   "codemirror_mode": {
    "name": "ipython",
    "version": 3
   },
   "file_extension": ".py",
   "mimetype": "text/x-python",
   "name": "python",
   "nbconvert_exporter": "python",
   "pygments_lexer": "ipython3",
   "version": "3.10.6"
  }
 },
 "nbformat": 4,
 "nbformat_minor": 5
}
