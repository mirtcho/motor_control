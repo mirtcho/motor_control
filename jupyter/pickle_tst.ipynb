{
 "cells": [
  {
   "cell_type": "code",
   "execution_count": 30,
   "id": "06431660",
   "metadata": {},
   "outputs": [
    {
     "name": "stdout",
     "output_type": "stream",
     "text": [
      "save time =  0.0667572021484375 [ms]   load time =  538.9425754547119 ms\n",
      "save time =  0.0667572021484375 [ms]   load time =  531.8515300750732 ms\n",
      "save time =  0.0667572021484375 [ms]   load time =  531.4364433288574 ms\n",
      "save time =  0.0667572021484375 [ms]   load time =  530.2407741546631 ms\n",
      "save time =  0.0667572021484375 [ms]   load time =  528.4333229064941 ms\n",
      "save time =  0.0667572021484375 [ms]   load time =  535.5722904205322 ms\n",
      "save time =  0.0667572021484375 [ms]   load time =  533.5996150970459 ms\n",
      "save time =  0.0667572021484375 [ms]   load time =  540.1260852813721 ms\n",
      "save time =  0.0667572021484375 [ms]   load time =  574.237585067749 ms\n",
      "save time =  0.0667572021484375 [ms]   load time =  534.8637104034424 ms\n",
      "save time =  0.0667572021484375 [ms]   load time =  531.606912612915 ms\n",
      "save time =  0.0667572021484375 [ms]   load time =  530.3492546081543 ms\n",
      "save time =  0.0667572021484375 [ms]   load time =  530.9560298919678 ms\n",
      "save time =  0.0667572021484375 [ms]   load time =  532.027006149292 ms\n",
      "save time =  0.0667572021484375 [ms]   load time =  529.8495292663574 ms\n",
      "save time =  0.0667572021484375 [ms]   load time =  533.6081981658936 ms\n",
      "save time =  0.0667572021484375 [ms]   load time =  529.9630165100098 ms\n",
      "save time =  0.0667572021484375 [ms]   load time =  532.7401161193848 ms\n",
      "save time =  0.0667572021484375 [ms]   load time =  529.8397541046143 ms\n",
      "save time =  0.0667572021484375 [ms]   load time =  530.8430194854736 ms\n",
      "0.8511265964022224    Type= float64\n"
     ]
    }
   ],
   "source": [
    "import pickle as pkl\n",
    "import numpy as np\n",
    "import time\n",
    "\n",
    "arrayInput = np.random.rand(4,50000000) #Trial input\n",
    "save = False\n",
    "load = True\n",
    "\n",
    "t0=time.time()\n",
    "fileName = 'data_tst.pkl'\n",
    "if save:\n",
    "  fileObject = open(fileName, 'wb')\n",
    "  pkl.dump(arrayInput, fileObject)\n",
    "  fileObject.close()\n",
    "t1=time.time()\n",
    "for i in range (20):\n",
    "  t2=time.time()\n",
    "  if load:\n",
    "    fileObject2 = open(fileName, 'rb')\n",
    "    modelInput = pkl.load(fileObject2)\n",
    "    fileObject2.close()\n",
    "  t3=time.time()\n",
    "  #print ('Four channel 50 Msamples float data')\n",
    "  print('save time = ',(t1-t0)*1e3 ,'[ms]   load time = ',(t3-t2)*1e3,'ms')\n",
    "print (arrayInput[3,100], '   Type=',arrayInput[3,100].dtype)\n",
    "#if arrayInput == modelInput:\n",
    "#    Print(True)\n"
   ]
  },
  {
   "cell_type": "code",
   "execution_count": 12,
   "id": "105f6bb3",
   "metadata": {},
   "outputs": [
    {
     "name": "stdout",
     "output_type": "stream",
     "text": [
      "1675242377.9424808\n"
     ]
    }
   ],
   "source": [
    "1,600,000,164"
   ]
  },
  {
   "cell_type": "code",
   "execution_count": 29,
   "id": "185b23bf",
   "metadata": {},
   "outputs": [
    {
     "name": "stdout",
     "output_type": "stream",
     "text": [
      "float64\n"
     ]
    }
   ],
   "source": [
    "print (arrayInput[3,100].dtype)"
   ]
  },
  {
   "cell_type": "code",
   "execution_count": null,
   "id": "b7faa8ca",
   "metadata": {},
   "outputs": [],
   "source": []
  }
 ],
 "metadata": {
  "kernelspec": {
   "display_name": "Python 3 (ipykernel)",
   "language": "python",
   "name": "python3"
  },
  "language_info": {
   "codemirror_mode": {
    "name": "ipython",
    "version": 3
   },
   "file_extension": ".py",
   "mimetype": "text/x-python",
   "name": "python",
   "nbconvert_exporter": "python",
   "pygments_lexer": "ipython3",
   "version": "3.10.6"
  }
 },
 "nbformat": 4,
 "nbformat_minor": 5
}
