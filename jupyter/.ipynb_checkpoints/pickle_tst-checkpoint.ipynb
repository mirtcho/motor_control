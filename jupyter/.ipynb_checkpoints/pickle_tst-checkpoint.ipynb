{
 "cells": [
  {
   "cell_type": "code",
   "execution_count": 20,
   "id": "06431660",
   "metadata": {},
   "outputs": [
    {
     "ename": "EOFError",
     "evalue": "Ran out of input",
     "output_type": "error",
     "traceback": [
      "\u001b[0;31m---------------------------------------------------------------------------\u001b[0m",
      "\u001b[0;31mEOFError\u001b[0m                                  Traceback (most recent call last)",
      "Cell \u001b[0;32mIn[20], line 19\u001b[0m\n\u001b[1;32m     17\u001b[0m \u001b[38;5;28;01mif\u001b[39;00m load:\n\u001b[1;32m     18\u001b[0m   fileObject2 \u001b[38;5;241m=\u001b[39m \u001b[38;5;28mopen\u001b[39m(fileName, \u001b[38;5;124m'\u001b[39m\u001b[38;5;124mrb\u001b[39m\u001b[38;5;124m'\u001b[39m)\n\u001b[0;32m---> 19\u001b[0m   modelInput \u001b[38;5;241m=\u001b[39m \u001b[43mpkl\u001b[49m\u001b[38;5;241;43m.\u001b[39;49m\u001b[43mload\u001b[49m\u001b[43m(\u001b[49m\u001b[43mfileObject2\u001b[49m\u001b[43m)\u001b[49m\n\u001b[1;32m     20\u001b[0m   fileObject2\u001b[38;5;241m.\u001b[39mclose()\n\u001b[1;32m     21\u001b[0m t3\u001b[38;5;241m=\u001b[39mtime\u001b[38;5;241m.\u001b[39mtime()\n",
      "\u001b[0;31mEOFError\u001b[0m: Ran out of input"
     ]
    }
   ],
   "source": [
    "import pickle as pkl\n",
    "import numpy as np\n",
    "import time\n",
    "\n",
    "arrayInput = np.random.rand(4,50000000) #Trial input\n",
    "save = False\n",
    "load = True\n",
    "\n",
    "t1=time.time()\n",
    "fileName = 'data_tst.pkl'\n",
    "fileObject = open(fileName, 'wb')\n",
    "for i in range (10):\n",
    "  if save:\n",
    "    pkl.dump(arrayInput, fileObject)\n",
    "    fileObject.close()\n",
    "  t2=time.time()\n",
    "  if load:\n",
    "    fileObject2 = open(fileName, 'rb')\n",
    "    modelInput = pkl.load(fileObject2)\n",
    "    fileObject2.close()\n",
    "  t3=time.time()\n",
    "  #print ('Four channel 50 Msamples float data')\n",
    "  print('save time = ',(t2-t1)*1e3 ,'[ms]   load time = ',(t3-t2)*1e3,'ms')\n",
    "arrayInput[3,100]\n",
    "#if arrayInput == modelInput:\n",
    "#    Print(True)\n"
   ]
  },
  {
   "cell_type": "code",
   "execution_count": 12,
   "id": "105f6bb3",
   "metadata": {},
   "outputs": [
    {
     "name": "stdout",
     "output_type": "stream",
     "text": [
      "1675242377.9424808\n"
     ]
    }
   ],
   "source": [
    "print(time.time())"
   ]
  },
  {
   "cell_type": "code",
   "execution_count": null,
   "id": "185b23bf",
   "metadata": {},
   "outputs": [],
   "source": []
  }
 ],
 "metadata": {
  "kernelspec": {
   "display_name": "Python 3 (ipykernel)",
   "language": "python",
   "name": "python3"
  },
  "language_info": {
   "codemirror_mode": {
    "name": "ipython",
    "version": 3
   },
   "file_extension": ".py",
   "mimetype": "text/x-python",
   "name": "python",
   "nbconvert_exporter": "python",
   "pygments_lexer": "ipython3",
   "version": "3.10.6"
  }
 },
 "nbformat": 4,
 "nbformat_minor": 5
}
